{
 "cells": [
  {
   "cell_type": "markdown",
   "metadata": {},
   "source": [
    "## Bigrams Generation\n",
    "\n",
    "We will reuse the `tokens.tsv` file generated in the `02-wordcounts` notebook to construct bigrams and then use that to compute frequent bigrams. Before starting, run the following commands.\n",
    "\n",
    "    cp ../data/tokens.tsv ../data/unigrams_left.tsv\n",
    "    cp ../data/tokens.tsv ../data/unigrams_right.tsv\n",
    "\n",
    "Remove last line from unigrams_left.tsv and first line from unigrams_right.tsv\n",
    "\n",
    "    paste -d \"\\t\" ../data/unigrams_left.tsv ../data/unigrams_right.tsv > ../data/bigrams.tsv\n",
    "    rm unigrams_left.tsv unigrams_right.tsv\n",
    "    \n",
    "We will now operate on the bigrams.tsv file."
   ]
  },
  {
   "cell_type": "code",
   "execution_count": 1,
   "metadata": {},
   "outputs": [],
   "source": [
    "import matplotlib.pyplot as plt\n",
    "import nltk\n",
    "import os\n",
    "import re\n",
    "import sqlite3\n",
    "import string\n",
    "\n",
    "from nltk.corpus import stopwords\n",
    "\n",
    "%matplotlib inline"
   ]
  },
  {
   "cell_type": "code",
   "execution_count": 2,
   "metadata": {},
   "outputs": [],
   "source": [
    "DATA_DIR = \"../data\""
   ]
  },
  {
   "cell_type": "code",
   "execution_count": 3,
   "metadata": {},
   "outputs": [],
   "source": [
    "# format: (word_id_1 | word_1 | doc_id_1 | word_id_2 | word_2 | doc_id_2)\n",
    "BIGRAMS_FILE = os.path.join(DATA_DIR, \"bigrams.tsv\")\n",
    "\n",
    "# target DB\n",
    "WORDCOUNTS_DB = os.path.join(DATA_DIR, \"wordcounts.db\")\n",
    "\n",
    "# candidate bigrams\n",
    "CANDIDATE_BIGRAMS = os.path.join(DATA_DIR, \"candidate_bigrams.tsv\")"
   ]
  },
  {
   "cell_type": "code",
   "execution_count": 4,
   "metadata": {},
   "outputs": [],
   "source": [
    "def table_exists(conn, table_name):\n",
    "    cur = conn.cursor()\n",
    "    cur.execute(\"select name from sqlite_master where type='table' and name = ?\", \n",
    "                [table_name])\n",
    "    rows = cur.fetchall()\n",
    "    cur.close()\n",
    "    return len(rows) > 0\n",
    "    \n",
    "\n",
    "def create_bigrams_table(conn):\n",
    "    if not table_exists(conn, \"bigrams\"):\n",
    "        cur = conn.cursor()\n",
    "        create_table = \"\"\"create table bigrams(\n",
    "            bigram_id INTEGER NOT NULL,\n",
    "            wid_1 INTEGER NOT NULL,\n",
    "            word_1 VARCHAR(50) NOT NULL,\n",
    "            wid_2 INTEGER NOT NULL,\n",
    "            word_2 VARCHAR(50) NOT NULL,\n",
    "            doc_id INTEGER NOT NULL)\n",
    "        \"\"\"\n",
    "        cur.execute(create_table)\n",
    "        cur.close()\n",
    "\n",
    "        \n",
    "def index_exists(conn, index_name):\n",
    "    cur = conn.cursor()\n",
    "    cur.execute(\"select name from sqlite_master where type='index' and name = ?\", \n",
    "                [index_name])\n",
    "    rows = cur.fetchall()\n",
    "    cur.close()\n",
    "    return len(rows) > 0\n",
    "\n",
    "\n",
    "def create_bigrams_indexes(conn):\n",
    "    cur = conn.cursor()\n",
    "    index_names = [\"ix_bigrams\", \"ax1_bigrams\", \"ax2_bigrams\"]\n",
    "    create_indexes = [\n",
    "        \"create unique index ix_bigrams on bigrams(bigram_id)\",\n",
    "        \"create index ax1_bigrams on bigrams(word_1, word_2)\",\n",
    "        \"create index ax2_bigrams on bigrams(doc_id)\"\n",
    "    ]\n",
    "    for index_name, create_index in zip(index_names, create_indexes):\n",
    "        if not index_exists(conn, index_name):\n",
    "            cur.execute(create_index)\n",
    "    cur.close()\n",
    "\n",
    "        \n",
    "def count_bigram_rows(conn):\n",
    "    cur = conn.cursor()\n",
    "    cur.execute(\"select count(*) as cnt from bigrams\")\n",
    "    rows = cur.fetchone()\n",
    "    return int(rows[0])\n",
    "    cur.close()\n",
    "\n",
    "    \n",
    "def insert_bigram(conn, bid, wid_1, word_1, wid_2, word_2, doc_id, commit=False):\n",
    "    cur = conn.cursor()\n",
    "    cur.execute(\"\"\"insert into bigrams(bigram_id, wid_1, word_1, wid_2, word_2, doc_id) \n",
    "        values (?, ?, ?, ?, ?, ?)\"\"\", [bid, wid_1, word_1, wid_2, word_2, doc_id])\n",
    "    if commit:\n",
    "        conn.commit()\n",
    "    cur.close()\n",
    "\n",
    "    \n",
    "conn = sqlite3.connect(WORDCOUNTS_DB)\n",
    "create_bigrams_table(conn)"
   ]
  },
  {
   "cell_type": "code",
   "execution_count": 5,
   "metadata": {},
   "outputs": [],
   "source": [
    "num_bigrams = count_bigram_rows(conn)\n",
    "if num_bigrams == 0:\n",
    "    # load table\n",
    "    bigram_id = 0\n",
    "    should_commit = False\n",
    "    fbgs = open(BIGRAMS_FILE, \"r\")\n",
    "    for line in fbgs:\n",
    "        cols = line.strip().split(\"\\t\")\n",
    "        if len(cols) != 6:\n",
    "            # skip bigrams with embedded newlines\n",
    "            continue\n",
    "        wid_1 = int(cols[0])\n",
    "        word_1 = cols[1]\n",
    "        doc_id_1 = int(cols[2])\n",
    "        wid_2 = int(cols[3])\n",
    "        word_2 = cols[4]\n",
    "        doc_id_2 = int(cols[5])\n",
    "        # skip entries that span documents\n",
    "        if doc_id_1 != doc_id_2:\n",
    "            continue\n",
    "        # skip entries that span sentences\n",
    "        if word_1 == \".\" or word_2 == \".\":\n",
    "            continue\n",
    "        if len(word_1) == 0 or len(word_2) == 0:\n",
    "            continue\n",
    "        if bigram_id % 1000 == 0:\n",
    "            print(\"{:d} bigrams loaded\".format(bigram_id))\n",
    "            should_commit = True\n",
    "        insert_bigram(conn, bigram_id, wid_1, word_1, wid_2, word_2, doc_id_1, should_commit)\n",
    "        should_commit = False\n",
    "        bigram_id += 1\n",
    "    fbgs.close()\n",
    "    conn.commit()"
   ]
  },
  {
   "cell_type": "code",
   "execution_count": 6,
   "metadata": {},
   "outputs": [],
   "source": [
    "create_bigrams_indexes(conn)"
   ]
  },
  {
   "cell_type": "markdown",
   "metadata": {},
   "source": [
    "### Most Frequent Bigrams"
   ]
  },
  {
   "cell_type": "code",
   "execution_count": 7,
   "metadata": {},
   "outputs": [],
   "source": [
    "def bigram_counts(conn, min_freq=-1, top_n=-1):\n",
    "    cur = conn.cursor()\n",
    "    count_sql = \"\"\"\n",
    "        SELECT word_1, word_2, count(*) as cnt\n",
    "        FROM bigrams\n",
    "        GROUP BY word_1, word_2\n",
    "    \"\"\"\n",
    "    if min_freq != -1:\n",
    "        count_sql += \" HAVING cnt > {:d}\".format(min_freq)\n",
    "    count_sql += \" ORDER BY cnt DESC\"\n",
    "    if top_n != -1:\n",
    "        count_sql += \" LIMIT {:d}\".format(top_n)\n",
    "    cur.execute(count_sql)\n",
    "    rows = cur.fetchall()\n",
    "    return [(row[0], row[1], row[2]) for row in rows]"
   ]
  },
  {
   "cell_type": "code",
   "execution_count": 8,
   "metadata": {},
   "outputs": [],
   "source": [
    "english_stopwords = set(stopwords.words('english'))\n",
    "\n",
    "\n",
    "def is_too_short(word):\n",
    "    if len(word) < 2:\n",
    "        return True\n",
    "    elif len(word) == 2 and word.endswith(\".\"):\n",
    "        return True\n",
    "    else:\n",
    "        return False\n",
    "    \n",
    "    \n",
    "def is_number_or_fraction(word):\n",
    "    return re.match(r\"(\\d)+(\\.(\\d)+)*\", word) is not None\n",
    "\n",
    "\n",
    "def is_all_punctuation(word):\n",
    "    chars = [c for c in word if c not in string.punctuation]\n",
    "    return len(chars) == 0"
   ]
  },
  {
   "cell_type": "code",
   "execution_count": 9,
   "metadata": {},
   "outputs": [
    {
     "name": "stdout",
     "output_type": "stream",
     "text": [
      "2280 candidate bigrams\n"
     ]
    }
   ],
   "source": [
    "candidate_bigrams = []\n",
    "most_frequent_bigrams = bigram_counts(conn, top_n=20000)\n",
    "for word_1, word_2, freq in most_frequent_bigrams:\n",
    "    if word_1 in english_stopwords or word_2 in english_stopwords:\n",
    "        continue\n",
    "    if is_too_short(word_1) or is_too_short(word_2):\n",
    "        continue\n",
    "    if is_number_or_fraction(word_1) or is_number_or_fraction(word_2):\n",
    "        continue\n",
    "    if is_all_punctuation(word_1) or is_all_punctuation(word_2):\n",
    "        continue\n",
    "    \n",
    "#     print(word_1, word_2, freq)\n",
    "    candidate_bigrams.append((word_1, word_2, freq))\n",
    "    \n",
    "print(\"{:d} candidate bigrams\".format(len(candidate_bigrams)))"
   ]
  },
  {
   "cell_type": "markdown",
   "metadata": {},
   "source": [
    "### Candidates for further analysis\n",
    "\n",
    "We attempt to plot the frequencies to see if there is any kind of cutoff we can put in to make sure we only look at good bigrams. But scrolling through the list shows that we have good candidates even towards the bottom of the list, so we decide to hold on to all generated bigrams. We will write it out to a new file `candidate_bigrams.tsv` which our next few notebooks will look at."
   ]
  },
  {
   "cell_type": "code",
   "execution_count": 10,
   "metadata": {},
   "outputs": [
    {
     "data": {
      "image/png": "[encoded data removed]",
      "text/plain": [
       "<Figure size 432x288 with 1 Axes>"
      ]
     },
     "metadata": {},
     "output_type": "display_data"
    }
   ],
   "source": [
    "plt.plot([cb[2] for cb in candidate_bigrams])\n",
    "plt.xlabel(\"bigrams\")\n",
    "plt.ylabel(\"freqs\")\n",
    "plt.show()"
   ]
  },
  {
   "cell_type": "code",
   "execution_count": 11,
   "metadata": {},
   "outputs": [],
   "source": [
    "fcb = open(CANDIDATE_BIGRAMS, \"w\")\n",
    "for word_1, word_2, freq in candidate_bigrams:\n",
    "    fcb.write(\"{:s}\\t{:s}\\t{:d}\\n\".format(word_1, word_2, freq))\n",
    "fcb.close()"
   ]
  }
 ],
 "metadata": {
  "kernelspec": {
   "display_name": "Python 3",
   "language": "python",
   "name": "python3"
  },
  "language_info": {
   "codemirror_mode": {
    "name": "ipython",
    "version": 3
   },
   "file_extension": ".py",
   "mimetype": "text/x-python",
   "name": "python",
   "nbconvert_exporter": "python",
   "pygments_lexer": "ipython3",
   "version": "3.6.5"
  }
 },
 "nbformat": 4,
 "nbformat_minor": 2
}
