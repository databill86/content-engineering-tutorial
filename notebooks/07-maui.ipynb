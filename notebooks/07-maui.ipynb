{
 "cells": [
  {
   "cell_type": "markdown",
   "metadata": {},
   "source": [
    "## Keyword Extraction using MAUI\n",
    "\n",
    "MAUI is a machine learning model for keyword extraction, developed by Alyona Medelyan, part of the group that built WEKA. See [NLP Keyword Extraction Tutorial with RAKE and Maui](https://www.airpair.com/nlp/keyword-extraction-tutorial) for details.\n",
    "\n",
    "We will use here the keywords we have extracted already (`candidate_bigrams.tsv` and `candidate_rake.tsv` files) to train a MAUI model, and then run the model against the same data files to hopefully get more keyword candidates.\n",
    "\n",
    "Download the JAR file from the [maui-standalone JAR release repository](https://github.com/zelandiya/maui-standalone/releases) to a local directory."
   ]
  },
  {
   "cell_type": "code",
   "execution_count": 1,
   "metadata": {},
   "outputs": [],
   "source": [
    "import collections\n",
    "import matplotlib.pyplot as plt\n",
    "import os\n",
    "import sqlite3\n",
    "%matplotlib inline"
   ]
  },
  {
   "cell_type": "code",
   "execution_count": 2,
   "metadata": {},
   "outputs": [],
   "source": [
    "DATA_DIR = \"../data\"\n",
    "\n",
    "TEXTFILES_DIR = os.path.join(DATA_DIR, \"textfiles\")\n",
    "TRAIN_KEYWORDS_DIR = os.path.join(DATA_DIR, \"keywords_train_maui\")\n",
    "\n",
    "WORDCOUNTS_DB = os.path.join(DATA_DIR, \"wordcounts.db\")\n",
    "LLR_CANDIDATES = os.path.join(DATA_DIR, \"candidate_bigrams.tsv\")\n",
    "RAKE_CANDIDATES = os.path.join(DATA_DIR, \"candidate_rake.tsv\")\n",
    "\n",
    "PREDICTED_KEYWORDS_DIR = os.path.join(DATA_DIR, \"keywords_maui\")\n",
    "MAUI_CANDIDATES = os.path.join(DATA_DIR, \"candidate_maui.tsv\")"
   ]
  },
  {
   "cell_type": "markdown",
   "metadata": {},
   "source": [
    "### Build training dataset\n",
    "\n",
    "For each document, we will first look up the `bigrams` table for all bigrams for that document, and filter them by the list in `candidate_bigrams.tsv` file. We will do the same with the `rake` table and filter with `candidate_rake.tsv`. The resulting de-duplicated list of keywords will be written out to the `keywords/${doc_id}.key` file."
   ]
  },
  {
   "cell_type": "code",
   "execution_count": 3,
   "metadata": {},
   "outputs": [],
   "source": [
    "def get_valid_llr_keywords(candidate_filename):\n",
    "    valid_bigrams = set()\n",
    "    fcand = open(candidate_filename, \"r\")\n",
    "    for line in fcand:\n",
    "        word_1, word_2, _ = line.strip().split(\"\\t\")\n",
    "        keyword = \" \".join([word_1, word_2])\n",
    "        valid_bigrams.add(keyword)\n",
    "    fcand.close()\n",
    "    return valid_bigrams\n",
    "\n",
    "\n",
    "def get_llr_keywords(conn, doc_id, valid_keywords):\n",
    "    llr_keywords = set()\n",
    "    cur = conn.cursor()\n",
    "    cur.execute(\"\"\"select word_1, word_2 from bigrams\n",
    "        where doc_id = ?\"\"\", [doc_id])\n",
    "    rows = cur.fetchall()\n",
    "    for row in rows:\n",
    "        keyword = \" \".join([row[0], row[1]])\n",
    "        if keyword in valid_keywords:\n",
    "            llr_keywords.add(keyword)\n",
    "    cur.close()\n",
    "    return llr_keywords\n",
    "\n",
    "\n",
    "def get_valid_rake_keywords(candidate_filename):\n",
    "    valid_keywords = set()\n",
    "    fcand = open(candidate_filename, \"r\")\n",
    "    for line in fcand:\n",
    "        keyword, _ = line.strip().split(\"\\t\")\n",
    "        valid_keywords.add(keyword)\n",
    "    fcand.close()\n",
    "    return valid_keywords\n",
    "\n",
    "\n",
    "def get_rake_keywords(conn, doc_id, valid_keywords):\n",
    "    rake_keywords = set()\n",
    "    cur = conn.cursor()\n",
    "    cur.execute(\"\"\"select keyword from rake where doc_id = ?\"\"\", [doc_id])\n",
    "    rows = cur.fetchall()\n",
    "    for row in rows:\n",
    "        rake_keywords.add(row[0])\n",
    "    cur.close()\n",
    "    return rake_keywords"
   ]
  },
  {
   "cell_type": "code",
   "execution_count": 4,
   "metadata": {},
   "outputs": [],
   "source": [
    "if not os.path.exists(TRAIN_KEYWORDS_DIR):\n",
    "    os.makedirs(TRAIN_KEYWORDS_DIR)\n",
    "\n",
    "    conn = sqlite3.connect(WORDCOUNTS_DB)\n",
    "    \n",
    "    valid_llr_keywords = get_valid_llr_keywords(LLR_CANDIDATES)\n",
    "    valid_rake_keywords = get_valid_rake_keywords(RAKE_CANDIDATES)\n",
    "    \n",
    "    i = 0\n",
    "    for textfile in os.listdir(TEXTFILES_DIR):\n",
    "        if i % 100 == 0:\n",
    "            print(\"{:d} keyfiles written\".format(i))\n",
    "        doc_id = int(textfile.split(\".\")[0])\n",
    "        llr_keywords = get_llr_keywords(conn, doc_id, valid_llr_keywords)\n",
    "        rake_keywords = get_rake_keywords(conn, doc_id, valid_rake_keywords)\n",
    "        keywords = llr_keywords.union(rake_keywords)\n",
    "        fkey = open(os.path.join(TRAIN_KEYWORDS_DIR, \"{:d}.key\".format(doc_id)), \"w\")\n",
    "        for keyword in keywords:\n",
    "            num_words = len(keyword.split(\" \"))\n",
    "            # don't care for 1 word keywords\n",
    "            if num_words < 2:\n",
    "                continue\n",
    "            fkey.write(\"{:s}\\n\".format(keyword))\n",
    "        fkey.close()\n",
    "        i += 1\n",
    "        \n",
    "    print(\"{:d} keyfiles written, COMPLETE\".format(i))"
   ]
  },
  {
   "cell_type": "markdown",
   "metadata": {},
   "source": [
    "### Train MAUI model\n",
    "\n",
    "Train a model. Both the text file and keyword files should be in same directory. \n",
    "\n",
    "    cd ../data\n",
    "    mkdir train_dir\n",
    "    cp textfiles/* train_dir/\n",
    "    cp keywords/* train_dir/\n",
    "    \n",
    "    cd ../models\n",
    "    java -Xmx4096m -jar maui-standalone-1.1-SNAPSHOT.jar train \\\n",
    "        -l ../data/train_dir/ \\\n",
    "        -m ./keyword_extraction.model \\\n",
    "        -v none \\\n",
    "        -o 5 \\\n",
    "        -x 4 \\\n",
    "        -y 2\n",
    "        \n",
    "    cd ../data\n",
    "    rm -rf train_dir\n",
    "\n",
    "This will create a model `keyword_extraction.model` in the current `models` directory. The `-x 4 -y 2` parameters state that we want only keywords that are between 2 and 4 words long. The `-o 5` only looks at keywords which occur 5 or more times. The `-v none` specifies that we are not supplying a vocabulary."
   ]
  },
  {
   "cell_type": "markdown",
   "metadata": {},
   "source": [
    "### Predict using model\n",
    "\n",
    "Once the model is ready, we can run this against the `.txt` files in our `../data/textfiles` directory. This will create additional keyword `.maui` files in the same directory, which will have to remove later to its own directory.\n",
    "\n",
    "    cd ../model\n",
    "    java -Xmx4096m -jar maui-standalone-1.1-SNAPSHOT.jar test \\\n",
    "        -l ../data/textfiles/ \\\n",
    "        -m ./keyword_extraction.model \\\n",
    "        -v none \\\n",
    "        -n 8\n",
    "\n",
    "    cd ../data\n",
    "    mkdir keywords_maui\n",
    "    mv textfiles/*.maui keywords_maui/\n",
    "    \n",
    "Here `-n 8` says we want MAUI to generate 8 keywords for each of our documents."
   ]
  },
  {
   "cell_type": "markdown",
   "metadata": {},
   "source": [
    "### Record keywords into DB\n",
    "\n",
    "We will now store these into a DB table, since we will need it to generate a list of \"good\" keywords from all three keyword generation approaches, to put into the index."
   ]
  },
  {
   "cell_type": "code",
   "execution_count": 5,
   "metadata": {},
   "outputs": [],
   "source": [
    "def table_exists(conn, table_name):\n",
    "    cur = conn.cursor()\n",
    "    cur.execute(\"select name from sqlite_master where type='table' and name = ?\", \n",
    "                [table_name])\n",
    "    rows = cur.fetchall()\n",
    "    cur.close()\n",
    "    return len(rows) > 0\n",
    "\n",
    "\n",
    "def create_maui_table(conn):\n",
    "    if not table_exists(conn, \"maui\"):\n",
    "        cur = conn.cursor()\n",
    "        create_table = \"\"\"create table maui(\n",
    "            id INTEGER NOT NULL,\n",
    "            keyword VARCHAR(50) NOT NULL, \n",
    "            doc_id INTEGER NOT NULL)\n",
    "        \"\"\"\n",
    "        cur.execute(create_table)\n",
    "        cur.close()\n",
    "\n",
    "\n",
    "def index_exists(conn, index_name):\n",
    "    cur = conn.cursor()\n",
    "    cur.execute(\"select name from sqlite_master where type='index' and name = ?\", \n",
    "                [index_name])\n",
    "    rows = cur.fetchall()\n",
    "    cur.close()\n",
    "    return len(rows) > 0\n",
    "\n",
    "\n",
    "def create_maui_indexes(conn):\n",
    "    cur = conn.cursor()\n",
    "    index_names = [\"ix_maui\", \"ax1_maui\", \"ax2_maui\"]\n",
    "    create_indexes = [\n",
    "        \"create unique index ix_maui on maui(id)\",\n",
    "        \"create index ax1_maui on maui(keyword)\",\n",
    "        \"create index ax2_maui on maui(doc_id)\"\n",
    "    ]\n",
    "    for index_name, create_index in zip(index_names, create_indexes):\n",
    "        if not index_exists(conn, index_name):\n",
    "            cur.execute(create_index)\n",
    "    cur.close()\n",
    "\n",
    "\n",
    "def insert_keyword(conn, id, keyword, doc_id, commit=False):\n",
    "    cur = conn.cursor()\n",
    "    cur.execute(\"insert into maui(id, keyword, doc_id) values (?, ?, ?)\", \n",
    "                [id, keyword, doc_id])\n",
    "    if commit:\n",
    "        conn.commit()\n",
    "    cur.close()\n",
    "\n",
    "        \n",
    "def count_maui_keywords(conn):\n",
    "    cur = conn.cursor()\n",
    "    cur.execute(\"select count(*) as cnt from maui\")\n",
    "    rows = cur.fetchone()\n",
    "    return int(rows[0])\n",
    "    cur.close()\n",
    "\n",
    "\n",
    "conn = sqlite3.connect(WORDCOUNTS_DB)\n",
    "create_maui_table(conn)"
   ]
  },
  {
   "cell_type": "code",
   "execution_count": 6,
   "metadata": {},
   "outputs": [],
   "source": [
    "num_recs = count_maui_keywords(conn)\n",
    "if num_recs == 0:\n",
    "    keyword_id = 0\n",
    "    should_commit = False\n",
    "    for keyfile in os.listdir(PREDICTED_KEYWORDS_DIR):\n",
    "        if keyword_id % 1000 == 0:\n",
    "            print(\"{:d} keywords ingested\".format(keyword_id))\n",
    "            should_commit = True\n",
    "        doc_id = int(keyfile.split(\".\")[0])\n",
    "        fkey = open(os.path.join(PREDICTED_KEYWORDS_DIR, keyfile), \"r\")\n",
    "        for keyword in fkey:\n",
    "            keyword = keyword.strip()\n",
    "            insert_keyword(conn, keyword_id, keyword, doc_id, should_commit)\n",
    "            keyword_id += 1\n",
    "            should_commit = False\n",
    "        fkey.close()\n",
    "    print(\"{:d} keywords ingested, COMPLETE\".format(keyword_id))\n",
    "    conn.commit()"
   ]
  },
  {
   "cell_type": "code",
   "execution_count": 7,
   "metadata": {},
   "outputs": [],
   "source": [
    "create_maui_indexes(conn)"
   ]
  },
  {
   "cell_type": "markdown",
   "metadata": {},
   "source": [
    "### Aggregate generated keywords"
   ]
  },
  {
   "cell_type": "code",
   "execution_count": 8,
   "metadata": {},
   "outputs": [
    {
     "name": "stdout",
     "output_type": "stream",
     "text": [
      "0 key files read\n",
      "1000 key files read\n",
      "2000 key files read\n",
      "3000 key files read\n",
      "4000 key files read\n",
      "5000 key files read\n",
      "6000 key files read\n",
      "7000 key files read\n",
      "7238 key files read\n",
      "13712 unique keywords\n"
     ]
    }
   ],
   "source": [
    "i = 0\n",
    "keywordsFreq = collections.Counter()\n",
    "for keyfile in os.listdir(PREDICTED_KEYWORDS_DIR):\n",
    "    if i % 1000 == 0:\n",
    "        print(\"{:d} key files read\".format(i))\n",
    "    fmaui = open(os.path.join(PREDICTED_KEYWORDS_DIR, keyfile), \"r\")\n",
    "    for keyword in fmaui:\n",
    "        keywordsFreq[keyword.strip()] += 1\n",
    "    fmaui.close()\n",
    "    i += 1\n",
    "\n",
    "print(\"{:d} key files read\".format(i))\n",
    "print(\"{:d} unique keywords\".format(len(keywordsFreq)))"
   ]
  },
  {
   "cell_type": "code",
   "execution_count": 9,
   "metadata": {},
   "outputs": [
    {
     "name": "stdout",
     "output_type": "stream",
     "text": [
      "Machine Learning 792\n",
      "neural networks 644\n",
      "training set 497\n",
      "neural network 404\n",
      "Neural Information 401\n",
      "Processing Systems 400\n",
      "Information Processing 398\n",
      "International Conference 394\n",
      "training data 384\n",
      "lower bound 383\n",
      "preprint arXiv 378\n",
      "machine learning 374\n",
      "data set 369\n",
      "optimization problem 332\n",
      "upper bound 324\n",
      "learning algorithm 311\n",
      "loss function 287\n",
      "objective function 280\n",
      "gradient descent 274\n",
      "reinforcement learning 260\n"
     ]
    }
   ],
   "source": [
    "for keyword, freq in keywordsFreq.most_common(20):\n",
    "    print(keyword, freq)"
   ]
  },
  {
   "cell_type": "code",
   "execution_count": 10,
   "metadata": {},
   "outputs": [
    {
     "data": {
      "image/png": "[encoded data removed]",
      "text/plain": [
       "<Figure size 432x288 with 1 Axes>"
      ]
     },
     "metadata": {},
     "output_type": "display_data"
    }
   ],
   "source": [
    "freqs = [f for k, f in keywordsFreq.most_common()]\n",
    "plt.plot(freqs)\n",
    "plt.xlabel(\"keywords\")\n",
    "plt.ylabel(\"frequency\")\n",
    "plt.show()"
   ]
  },
  {
   "cell_type": "code",
   "execution_count": 11,
   "metadata": {},
   "outputs": [],
   "source": [
    "fmac = open(MAUI_CANDIDATES, \"w\")\n",
    "already_seen = set()\n",
    "for keyword, freq in keywordsFreq.most_common(1000):\n",
    "    keyword = keyword.lower()\n",
    "    if keyword in already_seen:\n",
    "        continue\n",
    "    fmac.write(\"{:s}\\t{:d}\\n\".format(keyword, freq))\n",
    "    already_seen.add(keyword)\n",
    "fmac.close()"
   ]
  },
  {
   "cell_type": "markdown",
   "metadata": {},
   "source": [
    "## Next steps\n",
    "\n",
    "We now have keywords from 3 sources, which we will merge, dedup and then manually curate before putting them in our index.\n",
    "\n",
    "    cd ../data\n",
    "    cat candidate_bigrams.tsv | cut -f1-2 -d \"\\t\" | tr \"\\t\" \" \" > /tmp/aa1\n",
    "    cat candidate_rake.tsv | cut -f1 -d\"     \" > /tmp/aa2\n",
    "    cat candidate_maui.tsv | cut -f1 -d\"     \" > /tmp/aa3\n",
    "    cat /tmp/aa1 /tmp/aa2 /tmp/aa3 | sort | uniq > /tmp/raw_keywords.txt\n",
    "    "
   ]
  },
  {
   "cell_type": "code",
   "execution_count": null,
   "metadata": {},
   "outputs": [],
   "source": []
  }
 ],
 "metadata": {
  "kernelspec": {
   "display_name": "Python 3",
   "language": "python",
   "name": "python3"
  },
  "language_info": {
   "codemirror_mode": {
    "name": "ipython",
    "version": 3
   },
   "file_extension": ".py",
   "mimetype": "text/x-python",
   "name": "python",
   "nbconvert_exporter": "python",
   "pygments_lexer": "ipython3",
   "version": "3.6.5"
  }
 },
 "nbformat": 4,
 "nbformat_minor": 2
}
