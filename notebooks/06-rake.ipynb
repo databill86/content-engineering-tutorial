{
 "cells": [
  {
   "cell_type": "markdown",
   "metadata": {},
   "source": [
    "## Keywords using RAKE\n",
    "\n",
    "We will use the RAKE algorithm (A Python implementation of the Rapid Automatic Keyword Extraction (RAKE) algorithm as described in: Rose, S., Engel, D., Cramer, N., & Cowley, W. (2010). Automatic Keyword Extraction from Individual Documents. In M. W. Berry & J. Kogan (Eds.), Text Mining: Theory and Applications: John Wiley & Sons.).\n",
    "\n",
    "Idea of RAKE is as follows (for each file).\n",
    "\n",
    "* Split the text into sentences.\n",
    "* Split each sentence into phrases, separated by stopwords.\n",
    "* Score words in each phrase.\n",
    "* Order phrases by score.\n",
    "* (Addition) filter out 2-3 word phrases.\n",
    "* (Addition) retain only top scoring phrases.\n",
    "\n",
    "Finally, run this across all files and retain the most frequent keywords."
   ]
  },
  {
   "cell_type": "code",
   "execution_count": 1,
   "metadata": {},
   "outputs": [],
   "source": [
    "import matplotlib.pyplot as plt\n",
    "import operator\n",
    "import os\n",
    "import nltk\n",
    "import re\n",
    "import spacy\n",
    "import sqlite3\n",
    "import string\n",
    "\n",
    "from nltk.corpus import stopwords\n",
    "\n",
    "%matplotlib inline"
   ]
  },
  {
   "cell_type": "code",
   "execution_count": 2,
   "metadata": {},
   "outputs": [],
   "source": [
    "DATA_DIR = \"../data\"\n",
    "TEXTFILES_DIR = os.path.join(DATA_DIR, \"textfiles\")\n",
    "\n",
    "RAKE_KEYWORDS = os.path.join(DATA_DIR, \"rake_keywords.tsv\")\n",
    "\n",
    "WORDCOUNTS_DB = os.path.join(DATA_DIR, \"wordcounts.db\")\n",
    "CANDIDATE_RAKE = os.path.join(DATA_DIR, \"candidate_rake.tsv\")"
   ]
  },
  {
   "cell_type": "markdown",
   "metadata": {},
   "source": [
    "### Apply RAKE to single file\n",
    "\n",
    "Very heavily based on [code from aneesha/RAKE](https://github.com/aneesha/RAKE/blob/master/rake.py), main difference is that we are using SpaCy for sentence tokenization."
   ]
  },
  {
   "cell_type": "markdown",
   "metadata": {},
   "source": [
    "### Extract stopwords from NLTK\n",
    "\n",
    "NLTK provides a list of English stopwords which we will use here to build a regular expression that will be used to split sentences into phrases."
   ]
  },
  {
   "cell_type": "code",
   "execution_count": 3,
   "metadata": {},
   "outputs": [
    {
     "name": "stdout",
     "output_type": "stream",
     "text": [
      "re.compile(\"\\\\bi(?![\\\\w-])|\\\\bme(?![\\\\w-])|\\\\bmy(?![\\\\w-])|\\\\bmyself(?![\\\\w-])|\\\\bwe(?![\\\\w-])|\\\\bour(?![\\\\w-])|\\\\bours(?![\\\\w-])|\\\\bourselves(?![\\\\w-])|\\\\byou(?![\\\\w-])|\\\\byou're(?![\\\\w-])|\\\\byou've(?![\\\\w-])|\\, re.IGNORECASE)\n"
     ]
    }
   ],
   "source": [
    "def build_stop_word_regex():\n",
    "    stop_word_list = stopwords.words(\"english\")\n",
    "    stop_word_regex_list = []\n",
    "    for word in stop_word_list:\n",
    "        word_regex = r'\\b' + word + r'(?![\\w-])'  # added look ahead for hyphen\n",
    "        stop_word_regex_list.append(word_regex)\n",
    "    stop_word_pattern = re.compile('|'.join(stop_word_regex_list), re.IGNORECASE)\n",
    "    return stop_word_pattern\n",
    "\n",
    "\n",
    "stop_word_pattern = build_stop_word_regex()\n",
    "print(stop_word_pattern)"
   ]
  },
  {
   "cell_type": "markdown",
   "metadata": {},
   "source": [
    "### Split text to sentences"
   ]
  },
  {
   "cell_type": "code",
   "execution_count": 4,
   "metadata": {},
   "outputs": [
    {
     "name": "stdout",
     "output_type": "stream",
     "text": [
      "0 sentences added\n",
      "100 sentences added\n",
      "200 sentences added\n",
      "238 sentences added, COMPLETE\n"
     ]
    }
   ],
   "source": [
    "nlp = spacy.load(\"en\")\n",
    "\n",
    "def split_sentences(filename, show_debug=False):\n",
    "    fin = open(filename, \"r\")\n",
    "    text = fin.read()\n",
    "    fin.close()\n",
    "    sentence_list = []\n",
    "    doc = nlp(text)\n",
    "    i = 0\n",
    "    for sent in doc.sents:\n",
    "        if show_debug and i % 100 == 0:\n",
    "            print(\"{:d} sentences added\".format(i))\n",
    "        # tokens include whitespace separator\n",
    "        sentence = \" \".join(token.string for token in sent)\n",
    "        sentence = re.sub(\"\\n\", \" \", sentence)\n",
    "        # squeeze out additional whitespace\n",
    "        sentence = re.sub(\"\\s+\", \" \", sentence)\n",
    "        sentence_list.append(sentence)\n",
    "        i += 1\n",
    "    if show_debug:\n",
    "        print(\"{:d} sentences added, COMPLETE\".format(i))\n",
    "    return sentence_list\n",
    "\n",
    "\n",
    "sentence_list = split_sentences(os.path.join(TEXTFILES_DIR, \"1.txt\"), True)"
   ]
  },
  {
   "cell_type": "markdown",
   "metadata": {},
   "source": [
    "### Sentences to Phrases\n",
    "\n",
    "Phrases are \"runs of words\" delimited by stopwords."
   ]
  },
  {
   "cell_type": "code",
   "execution_count": 5,
   "metadata": {},
   "outputs": [
    {
     "name": "stdout",
     "output_type": "stream",
     "text": [
      "987 phrases\n"
     ]
    }
   ],
   "source": [
    "def generate_phrases(sentence_list, stopword_pattern):\n",
    "    phrase_list = []\n",
    "    for s in sentence_list:\n",
    "        tmp = re.sub(stopword_pattern, '|', s.strip())\n",
    "        phrases = tmp.split(\"|\")\n",
    "        for phrase in phrases:\n",
    "            phrase = phrase.strip().lower()\n",
    "            if phrase != \"\":\n",
    "                phrase_list.append(phrase)\n",
    "    return phrase_list\n",
    "\n",
    "\n",
    "phrase_list = generate_phrases(sentence_list, stop_word_pattern)\n",
    "print(\"{:d} phrases\".format(len(phrase_list)))"
   ]
  },
  {
   "cell_type": "markdown",
   "metadata": {},
   "source": [
    "### Calculate word scores\n",
    "\n",
    "Word scores are generated based on their frequency and degree."
   ]
  },
  {
   "cell_type": "code",
   "execution_count": 6,
   "metadata": {},
   "outputs": [
    {
     "name": "stdout",
     "output_type": "stream",
     "text": [
      "606\n"
     ]
    }
   ],
   "source": [
    "def is_number(s):\n",
    "    try:\n",
    "        float(s) if '.' in s else int(s)\n",
    "        return True\n",
    "    except ValueError:\n",
    "        return False\n",
    "\n",
    "\n",
    "def separate_words(text, min_word_return_size):\n",
    "    splitter = re.compile('[^a-zA-Z0-9_\\\\+\\\\-/]')\n",
    "    words = []\n",
    "    for single_word in splitter.split(text):\n",
    "        current_word = single_word.strip().lower()\n",
    "        # leave numbers in phrase, but don't count as words, \n",
    "        # since they tend to invalidate scores of their phrases\n",
    "        if (len(current_word) > min_word_return_size and current_word != '' \n",
    "                and not is_number(current_word)):\n",
    "            words.append(current_word)\n",
    "    return words\n",
    "\n",
    "\n",
    "def calculate_word_scores(phrase_list):\n",
    "    word_frequency = {}\n",
    "    word_degree = {}\n",
    "    for phrase in phrase_list:\n",
    "        word_list = separate_words(phrase, 0)\n",
    "        word_list_length = len(word_list)\n",
    "        word_list_degree = word_list_length - 1\n",
    "        #if word_list_degree > 3: word_list_degree = 3 #exp.\n",
    "        for word in word_list:\n",
    "            word_frequency.setdefault(word, 0)\n",
    "            word_frequency[word] += 1\n",
    "            word_degree.setdefault(word, 0)\n",
    "            word_degree[word] += word_list_degree  #orig.\n",
    "            #word_degree[word] += 1/(word_list_length*1.0) #exp.\n",
    "    for item in word_frequency:\n",
    "        word_degree[item] = word_degree[item] + word_frequency[item]\n",
    "\n",
    "    # Calculate Word scores = deg(w)/frew(w)\n",
    "    word_score = {}\n",
    "    for item in word_frequency:\n",
    "        word_score.setdefault(item, 0)\n",
    "        word_score[item] = word_degree[item] / (word_frequency[item] * 1.0)  #orig.\n",
    "    #word_score[item] = word_frequency[item]/(word_degree[item] * 1.0) #exp.\n",
    "    return word_score\n",
    "\n",
    "\n",
    "word_scores = calculate_word_scores(phrase_list)\n",
    "print(len(word_scores))"
   ]
  },
  {
   "cell_type": "markdown",
   "metadata": {},
   "source": [
    "### Assign phrase scores based on word scores\n",
    "\n",
    "Finally, filter candidates generated using some heuristics."
   ]
  },
  {
   "cell_type": "code",
   "execution_count": 7,
   "metadata": {},
   "outputs": [
    {
     "data": {
      "text/plain": [
       "725"
      ]
     },
     "execution_count": 7,
     "metadata": {},
     "output_type": "execute_result"
    }
   ],
   "source": [
    "def generate_candidate_keyword_scores(phrase_list, word_scores):\n",
    "    keyword_candidates = {}\n",
    "    for phrase in phrase_list:\n",
    "        keyword_candidates.setdefault(phrase, 0)\n",
    "        word_list = separate_words(phrase, 0)\n",
    "        candidate_score = 0\n",
    "        for word in word_list:\n",
    "            candidate_score += word_scores[word]\n",
    "        keyword_candidates[phrase] = candidate_score\n",
    "    return keyword_candidates\n",
    "\n",
    "candidate_keywords_scored = generate_candidate_keyword_scores(phrase_list, word_scores)\n",
    "len(candidate_keywords_scored)"
   ]
  },
  {
   "cell_type": "code",
   "execution_count": 8,
   "metadata": {},
   "outputs": [
    {
     "name": "stdout",
     "output_type": "stream",
     "text": [
      "16.000 yujrzxwjf\n",
      "12.756 sparse internal representation\n",
      "12.507 fnfgn\n",
      "12.495 \n",
      "11.877 let dhx\n",
      "11.806 neural net representation\n",
      "10.773 cp lcop\n",
      "10.492 vector\n",
      "10.095 linear rate\n",
      "10.000 national science foundation\n",
      " 9.889 matrix representation shovn\n"
     ]
    }
   ],
   "source": [
    "def filter_sort_top_keywords(candidate_keywords_scored, \n",
    "                             min_words=2, max_words=3, score_cutoff=0.0):\n",
    "    top_keywords = sorted(candidate_keywords_scored.items(), \n",
    "                           key=operator.itemgetter(1), reverse=True)\n",
    "    already_seen = set()\n",
    "    candidate_keywords = []\n",
    "    for top_keyword, score in top_keywords:\n",
    "        if score <= score_cutoff:\n",
    "            break\n",
    "        top_keyword = re.sub(\"\\s+\", \" \", top_keyword)\n",
    "        words = top_keyword.split(\" \")\n",
    "        # only keep 2 and 3 word keywords\n",
    "        num_words = len(words)\n",
    "        if num_words < min_words or num_words > max_words:\n",
    "            continue\n",
    "        # remove any single char words\n",
    "        words_filtered = [w for w in words if len(w) > 1]\n",
    "        top_keyword = \" \".join(words_filtered)\n",
    "        # remove extra punctuation chars\n",
    "        top_keyword = \"\".join([c for c in top_keyword if c not in string.punctuation])\n",
    "        top_keyword = re.sub(\"\\s+\", \" \", top_keyword)\n",
    "        top_keyword = top_keyword.strip()\n",
    "        # don't repeat keywords\n",
    "        if top_keyword in already_seen:\n",
    "            continue\n",
    "        candidate_keywords.append((top_keyword, score))\n",
    "        already_seen.add(top_keyword)\n",
    "    return candidate_keywords\n",
    "\n",
    "candidate_keywords = filter_sort_top_keywords(candidate_keywords_scored)\n",
    "i = 0\n",
    "for keyword, score in candidate_keywords:\n",
    "    if i <= 10:\n",
    "        print(\"{:6.3f}\".format(score), keyword)\n",
    "    i += 1"
   ]
  },
  {
   "cell_type": "markdown",
   "metadata": {},
   "source": [
    "### Plot results to determine cutoff\n",
    "\n",
    "We can run this multiple times to generate a decent cutoff. Based on running these scores across a few files, we determine that a good cutoff is 5."
   ]
  },
  {
   "cell_type": "code",
   "execution_count": 9,
   "metadata": {},
   "outputs": [
    {
     "data": {
      "text/plain": [
       "Text(0,0.5,'score')"
      ]
     },
     "execution_count": 9,
     "metadata": {},
     "output_type": "execute_result"
    },
    {
     "data": {
      "image/png": "[encoded data removed]",
      "text/plain": [
       "<Figure size 432x288 with 1 Axes>"
      ]
     },
     "metadata": {},
     "output_type": "display_data"
    }
   ],
   "source": [
    "plt.plot([k[1] for k in candidate_keywords])\n",
    "plt.xlabel(\"number of keywords\")\n",
    "plt.ylabel(\"score\")"
   ]
  },
  {
   "cell_type": "markdown",
   "metadata": {},
   "source": [
    "### Apply code to all files in corpus\n",
    "\n",
    "We will rerun the above code for all the files in our corpus and generate a file of raw keywords generated by RAKE."
   ]
  },
  {
   "cell_type": "code",
   "execution_count": 10,
   "metadata": {},
   "outputs": [],
   "source": [
    "if not os.path.exists(RAKE_KEYWORDS):\n",
    "    frak = open(RAKE_KEYWORDS, \"w\")\n",
    "    i = 0\n",
    "    for filename in os.listdir(TEXTFILES_DIR):\n",
    "        if i % 100 == 0:\n",
    "            print(\"{:d} files processed\".format(i))\n",
    "        doc_id = int(filename.split(\".\")[0])\n",
    "        textfile_name = os.path.join(TEXTFILES_DIR, filename)\n",
    "        sentence_list = split_sentences(textfile_name)\n",
    "        phrase_list = generate_phrases(sentence_list, stop_word_pattern)\n",
    "        word_scores = calculate_word_scores(phrase_list)\n",
    "        candidate_keywords_scored = generate_candidate_keyword_scores(phrase_list, word_scores)\n",
    "        candidate_keywords = filter_sort_top_keywords(candidate_keywords_scored, \n",
    "                                                  score_cutoff=5.0)\n",
    "        for keyword, score in candidate_keywords:\n",
    "            frak.write(\"{:d}\\t{:s}\\t{:.3f}\\n\".format(doc_id, keyword, score))\n",
    "        i += 1\n",
    "\n",
    "    print(\"{:d} files processed, COMPLETE\".format(i))\n",
    "    frak.close()"
   ]
  },
  {
   "cell_type": "markdown",
   "metadata": {},
   "source": [
    "### Load into DB for grouping"
   ]
  },
  {
   "cell_type": "code",
   "execution_count": 11,
   "metadata": {},
   "outputs": [],
   "source": [
    "def table_exists(conn, table_name):\n",
    "    cur = conn.cursor()\n",
    "    cur.execute(\"select name from sqlite_master where type='table' and name = ?\", \n",
    "                [table_name])\n",
    "    rows = cur.fetchall()\n",
    "    cur.close()\n",
    "    return len(rows) > 0\n",
    "\n",
    "\n",
    "def create_rake_table(conn):\n",
    "    if not table_exists(conn, \"rake\"):\n",
    "        cur = conn.cursor()\n",
    "        create_table = \"\"\"create table rake(\n",
    "            id INTEGER NOT NULL,\n",
    "            keyword VARCHAR(50) NOT NULL, \n",
    "            doc_id INTEGER NOT NULL)\n",
    "        \"\"\"\n",
    "        cur.execute(create_table)\n",
    "        cur.close()\n",
    "\n",
    "\n",
    "def index_exists(conn, index_name):\n",
    "    cur = conn.cursor()\n",
    "    cur.execute(\"select name from sqlite_master where type='index' and name = ?\", \n",
    "                [index_name])\n",
    "    rows = cur.fetchall()\n",
    "    cur.close()\n",
    "    return len(rows) > 0\n",
    "\n",
    "\n",
    "def create_rake_indexes(conn):\n",
    "    cur = conn.cursor()\n",
    "    index_names = [\"ix_rake\", \"ax1_rake\", \"ax2_rake\"]\n",
    "    create_indexes = [\n",
    "        \"create unique index ix_rake on rake(id)\",\n",
    "        \"create index ax1_rake on rake(keyword)\",\n",
    "        \"create index ax2_rake on rake(doc_id)\"\n",
    "    ]\n",
    "    for index_name, create_index in zip(index_names, create_indexes):\n",
    "        if not index_exists(conn, index_name):\n",
    "            cur.execute(create_index)\n",
    "    cur.close()\n",
    "\n",
    "\n",
    "def insert_keyword(conn, id, keyword, doc_id, commit=False):\n",
    "    cur = conn.cursor()\n",
    "    cur.execute(\"insert into rake(id, keyword, doc_id) values (?, ?, ?)\", \n",
    "                [id, keyword, doc_id])\n",
    "    if commit:\n",
    "        conn.commit()\n",
    "    cur.close()\n",
    "\n",
    "        \n",
    "def count_words_in_table(conn):\n",
    "    cur = conn.cursor()\n",
    "    cur.execute(\"select count(*) as cnt from rake\")\n",
    "    rows = cur.fetchone()\n",
    "    return int(rows[0])\n",
    "    cur.close()\n",
    "\n",
    "\n",
    "conn = sqlite3.connect(WORDCOUNTS_DB)\n",
    "create_rake_table(conn)"
   ]
  },
  {
   "cell_type": "code",
   "execution_count": 12,
   "metadata": {},
   "outputs": [],
   "source": [
    "num_keywords = count_words_in_table(conn)\n",
    "keyword_id = 0\n",
    "should_commit = False\n",
    "if num_keywords == 0:\n",
    "    frake = open(RAKE_KEYWORDS, \"r\")\n",
    "    for line in frake:\n",
    "        if keyword_id % 100 == 0:\n",
    "            print(\"{:d} records inserted\".format(keyword_id))\n",
    "            should_commit = True\n",
    "        doc_id, keyword, _ = line.strip().split(\"\\t\")\n",
    "        if len(keyword.strip()) == 0:\n",
    "            continue\n",
    "        insert_keyword(conn, keyword_id, keyword, doc_id, should_commit)\n",
    "        should_commit = False\n",
    "        keyword_id += 1\n",
    "    frake.close()\n",
    "    print(\"{:d} records inserted, COMPLETE\".format(keyword_id))\n",
    "    conn.commit()"
   ]
  },
  {
   "cell_type": "code",
   "execution_count": 13,
   "metadata": {},
   "outputs": [],
   "source": [
    "create_rake_indexes(conn)"
   ]
  },
  {
   "cell_type": "code",
   "execution_count": 14,
   "metadata": {},
   "outputs": [
    {
     "name": "stdout",
     "output_type": "stream",
     "text": [
      "machine learning 1286\n",
      "neural networks 1216\n",
      "figure shows 969\n",
      "training data 961\n",
      "training set 715\n",
      "neural network 690\n",
      "would like 647\n",
      "objective function 555\n",
      "learning algorithm 553\n",
      "lower bound 532\n",
      "loss function 523\n"
     ]
    }
   ],
   "source": [
    "cur = conn.cursor()\n",
    "cur.execute(\"\"\"\n",
    "    select keyword, count(*) as freq\n",
    "    from rake\n",
    "    group by keyword\n",
    "    having freq > 5\n",
    "    order by freq desc\n",
    "\"\"\")\n",
    "candidate_keywords = []\n",
    "rows = cur.fetchall()\n",
    "i = 0\n",
    "for keyword, freq in rows:\n",
    "    words = keyword.split(\" \")\n",
    "    num_words = len(words)\n",
    "    if num_words < 2:\n",
    "        # for search, we don't care about unigrams\n",
    "        continue\n",
    "    words_filtered = [w for w in words if len(w.strip()) > 0]\n",
    "    if num_words < 2:\n",
    "        continue\n",
    "    candidate_keywords.append((keyword, freq))\n",
    "    if i <= 10:\n",
    "        print(keyword, freq)\n",
    "    i += 1"
   ]
  },
  {
   "cell_type": "markdown",
   "metadata": {},
   "source": [
    "### Plot frequency distribution to find cutoff"
   ]
  },
  {
   "cell_type": "code",
   "execution_count": 15,
   "metadata": {},
   "outputs": [
    {
     "data": {
      "text/plain": [
       "Text(0,0.5,'frequency')"
      ]
     },
     "execution_count": 15,
     "metadata": {},
     "output_type": "execute_result"
    },
    {
     "data": {
      "image/png": "[encoded data removed]",
      "text/plain": [
       "<Figure size 432x288 with 1 Axes>"
      ]
     },
     "metadata": {},
     "output_type": "display_data"
    }
   ],
   "source": [
    "plt.plot([ck[1] for ck in candidate_keywords])\n",
    "plt.xlabel(\"keywords\")\n",
    "plt.ylabel(\"frequency\")"
   ]
  },
  {
   "cell_type": "markdown",
   "metadata": {},
   "source": [
    "### Write out top 2500 keywords"
   ]
  },
  {
   "cell_type": "code",
   "execution_count": 16,
   "metadata": {},
   "outputs": [],
   "source": [
    "fcrk = open(CANDIDATE_RAKE, \"w\")\n",
    "for keyword, freq in candidate_keywords[0:2500]:\n",
    "    fcrk.write(\"{:s}\\t{:d}\\n\".format(keyword, freq))\n",
    "fcrk.close()"
   ]
  },
  {
   "cell_type": "code",
   "execution_count": null,
   "metadata": {},
   "outputs": [],
   "source": []
  }
 ],
 "metadata": {
  "kernelspec": {
   "display_name": "Python 3",
   "language": "python",
   "name": "python3"
  },
  "language_info": {
   "codemirror_mode": {
    "name": "ipython",
    "version": 3
   },
   "file_extension": ".py",
   "mimetype": "text/x-python",
   "name": "python",
   "nbconvert_exporter": "python",
   "pygments_lexer": "ipython3",
   "version": "3.6.5"
  }
 },
 "nbformat": 4,
 "nbformat_minor": 2
}
