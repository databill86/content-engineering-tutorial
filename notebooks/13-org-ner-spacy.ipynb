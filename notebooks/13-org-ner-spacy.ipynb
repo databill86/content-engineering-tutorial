{
 "cells": [
  {
   "cell_type": "markdown",
   "metadata": {},
   "source": [
    "## Extracting ORGs from papers using SpaCy\n",
    "\n",
    "This notebook is based on the documentation on the [SpaCy Linguistic Features page](https://spacy.io/usage/linguistic-features#section-named-entities).\n",
    "\n",
    "We try to extract ORG named entities from our papers dataset. These are likely to be universities and commercial research groups."
   ]
  },
  {
   "cell_type": "code",
   "execution_count": 1,
   "metadata": {},
   "outputs": [],
   "source": [
    "import os\n",
    "import re\n",
    "import spacy"
   ]
  },
  {
   "cell_type": "code",
   "execution_count": 2,
   "metadata": {},
   "outputs": [],
   "source": [
    "DATA_DIR = \"../data\"\n",
    "\n",
    "TEXTFILES_ORG_DIR = os.path.join(DATA_DIR, \"textfiles_org\")\n",
    "ORGS_SPACY_DIR = os.path.join(DATA_DIR, \"orgs_spacy\")"
   ]
  },
  {
   "cell_type": "markdown",
   "metadata": {},
   "source": [
    "### Entity Extractor\n",
    "\n",
    "SpaCy entity extractor is __much faster__ compared to NLTK+Stanford."
   ]
  },
  {
   "cell_type": "code",
   "execution_count": 3,
   "metadata": {},
   "outputs": [
    {
     "name": "stdout",
     "output_type": "stream",
     "text": [
      "Yann Le Cun, a native of France was not even 30 when he joined AT&T Bell Laboratories in New Jersey. At Bell Labs, LeCun developed a number of new machine learning methods, including the convolutional neural network—modeled after the visual cortex in animals. Today, he serves as chief AI scientist at Facebook, where he works tirelessly towards new breakthroughs.\n",
      "['AT&T Bell Laboratories', 'Bell Labs', 'Facebook']\n"
     ]
    }
   ],
   "source": [
    "def extract_entities(tagger, text):\n",
    "    entities = []\n",
    "    if text is None:\n",
    "        return entities\n",
    "    doc = tagger(text)\n",
    "    for ent in doc.ents:\n",
    "        if ent.label_ == \"ORG\":\n",
    "            entities.append(ent.text)\n",
    "    return entities\n",
    "  \n",
    "    \n",
    "text = \"\"\"Yann Le Cun, a native of France was not even 30 when he joined AT&T \n",
    "Bell Laboratories in New Jersey. At Bell Labs, LeCun developed a number of new \n",
    "machine learning methods, including the convolutional neural network—modeled \n",
    "after the visual cortex in animals. Today, he serves as chief AI scientist at\n",
    "Facebook, where he works tirelessly towards new breakthroughs.\"\"\"\n",
    "text = text.replace(\"\\n\", \" \")\n",
    "text = re.sub(\"\\s+\", \" \", text)\n",
    "print(text)\n",
    "    \n",
    "nlp = spacy.load(\"en\")\n",
    "entities = extract_entities(nlp, text)\n",
    "print(entities)"
   ]
  },
  {
   "cell_type": "markdown",
   "metadata": {},
   "source": [
    "## Apply to all (preprocessed) text files\n",
    "\n",
    "The preprocessing was done in the `12-org-ner-nltk-stanford` notebook. It pulls the first 50 lines of the original file in an attempt to focus on the part of the text that are most likely to contain the ORGs we are interested in, ie, the affiliations of the authors."
   ]
  },
  {
   "cell_type": "code",
   "execution_count": 4,
   "metadata": {},
   "outputs": [],
   "source": [
    "if not os.path.exists(ORGS_SPACY_DIR):\n",
    "    os.mkdir(ORGS_SPACY_DIR)"
   ]
  },
  {
   "cell_type": "code",
   "execution_count": 5,
   "metadata": {},
   "outputs": [
    {
     "name": "stdout",
     "output_type": "stream",
     "text": [
      "orgs extracted from 0 files\n",
      "orgs extracted from 1000 files\n",
      "orgs extracted from 2000 files\n",
      "orgs extracted from 3000 files\n",
      "orgs extracted from 4000 files\n",
      "orgs extracted from 5000 files\n",
      "orgs extracted from 6000 files\n",
      "orgs extracted from 7000 files\n",
      "orgs extracted from 7238 files, COMPLETE\n"
     ]
    }
   ],
   "source": [
    "def get_text(textfile):\n",
    "    lines = []\n",
    "    f = open(textfile, \"r\")\n",
    "    for line in f:\n",
    "        lines.append(line.strip())\n",
    "    f.close()\n",
    "    text = \"\\n\".join(lines)\n",
    "    return text\n",
    "\n",
    "\n",
    "num_written = 0\n",
    "for textfile in os.listdir(TEXTFILES_ORG_DIR):\n",
    "    if num_written % 1000 == 0:\n",
    "        print(\"orgs extracted from {:d} files\".format(num_written))\n",
    "    doc_id = int(textfile.split(\".\")[0])\n",
    "    orgfile = os.path.join(ORGS_SPACY_DIR, \"{:d}.org\".format(doc_id))\n",
    "    if os.path.exists(orgfile):\n",
    "        continue\n",
    "    else:\n",
    "        text = get_text(os.path.join(TEXTFILES_ORG_DIR, \"{:d}.txt\".format(doc_id)))\n",
    "        entities = extract_entities(nlp, text)\n",
    "        entities = list(set(entities))\n",
    "        forgs = open(orgfile, \"w\")\n",
    "        for entity in entities:\n",
    "            forgs.write(\"{:s}\\n\".format(entity))\n",
    "        forgs.close()\n",
    "    num_written += 1\n",
    "print(\"orgs extracted from {:d} files, COMPLETE\".format(num_written))"
   ]
  },
  {
   "cell_type": "code",
   "execution_count": null,
   "metadata": {},
   "outputs": [],
   "source": []
  },
  {
   "cell_type": "code",
   "execution_count": null,
   "metadata": {},
   "outputs": [],
   "source": []
  }
 ],
 "metadata": {
  "kernelspec": {
   "display_name": "Python 3",
   "language": "python",
   "name": "python3"
  },
  "language_info": {
   "codemirror_mode": {
    "name": "ipython",
    "version": 3
   },
   "file_extension": ".py",
   "mimetype": "text/x-python",
   "name": "python",
   "nbconvert_exporter": "python",
   "pygments_lexer": "ipython3",
   "version": "3.6.5"
  }
 },
 "nbformat": 4,
 "nbformat_minor": 2
}
