{
 "cells": [
  {
   "cell_type": "markdown",
   "metadata": {},
   "source": [
    "## Corpus specific stopwords\n",
    "\n",
    "In addition to english stopwords available from NLTK, we can consider high IDF words also as stopwords. Same deal - low discriminative power because they occur across many documents.\n",
    "\n",
    "We will use the wordcounts table to generate document frequencies."
   ]
  },
  {
   "cell_type": "code",
   "execution_count": 1,
   "metadata": {},
   "outputs": [],
   "source": [
    "import json\n",
    "import matplotlib.pyplot as plt\n",
    "import nltk\n",
    "import numpy as np\n",
    "import os\n",
    "import re\n",
    "import requests\n",
    "import sqlite3\n",
    "import string\n",
    "\n",
    "from nltk.corpus import stopwords\n",
    "\n",
    "%matplotlib inline"
   ]
  },
  {
   "cell_type": "code",
   "execution_count": 2,
   "metadata": {},
   "outputs": [],
   "source": [
    "DATA_DIR = \"../data\"\n",
    "\n",
    "WORDCOUNTS_DB = os.path.join(DATA_DIR, \"wordcounts.db\")"
   ]
  },
  {
   "cell_type": "code",
   "execution_count": 3,
   "metadata": {},
   "outputs": [],
   "source": [
    "conn = sqlite3.connect(WORDCOUNTS_DB)"
   ]
  },
  {
   "cell_type": "code",
   "execution_count": 4,
   "metadata": {},
   "outputs": [],
   "source": [
    "english_stopwords = set(stopwords.words('english'))\n",
    "\n",
    "\n",
    "def is_number_or_fraction(word):\n",
    "    return re.match(r\"(\\d)+(\\.(\\d)+)*\", word) is not None\n",
    "\n",
    "\n",
    "def is_all_punctuation(word):\n",
    "    chars = [c for c in word if c not in string.punctuation]\n",
    "    return len(chars) == 0"
   ]
  },
  {
   "cell_type": "code",
   "execution_count": 5,
   "metadata": {},
   "outputs": [
    {
     "name": "stdout",
     "output_type": "stream",
     "text": [
      "4448 candidate stopwords\n"
     ]
    }
   ],
   "source": [
    "cur = conn.cursor()\n",
    "cur.execute(\"\"\"\n",
    "SELECT word, count(doc_id) as doc_cnt\n",
    "FROM (\n",
    "    SELECT word, doc_id, count(*) as cnt\n",
    "    FROM wordcounts\n",
    "    GROUP BY word, doc_id\n",
    ") GROUP BY word\n",
    "ORDER BY doc_cnt DESC\n",
    "LIMIT 5000\n",
    "\"\"\")\n",
    "candidate_stopwords = []\n",
    "rows = cur.fetchall()\n",
    "for row in rows:\n",
    "    word = row[0]\n",
    "    df = row[1]\n",
    "    if len(word) < 2:\n",
    "        continue\n",
    "    if len(word) == 2 and word.endswith(\".\"):\n",
    "        continue\n",
    "    if is_number_or_fraction(word):\n",
    "        continue\n",
    "    if is_all_punctuation(word):\n",
    "        continue\n",
    "    if word in english_stopwords:\n",
    "        continue\n",
    "#     print(row[0], row[1])\n",
    "    candidate_stopwords.append(row)\n",
    "    \n",
    "cur.close()\n",
    "print(\"{:d} candidate stopwords\".format(len(candidate_stopwords)))"
   ]
  },
  {
   "cell_type": "markdown",
   "metadata": {},
   "source": [
    "### Decide a cutoff\n",
    "\n",
    "We want to consider as stopwords those which occur in more than a certain fraction of the corpus. Simple measure is to consider the 90 or 95th percentile in terms of document frequency."
   ]
  },
  {
   "cell_type": "code",
   "execution_count": 6,
   "metadata": {},
   "outputs": [
    {
     "data": {
      "image/png": "[encoded data removed]",
      "text/plain": [
       "<Figure size 432x288 with 1 Axes>"
      ]
     },
     "metadata": {},
     "output_type": "display_data"
    }
   ],
   "source": [
    "dfs = [row[1] for row in candidate_stopwords]\n",
    "plt.plot(dfs)\n",
    "plt.ylabel(\"doc frequency\")\n",
    "plt.xlabel(\"number of top terms\")\n",
    "plt.show()"
   ]
  },
  {
   "cell_type": "code",
   "execution_count": 7,
   "metadata": {},
   "outputs": [
    {
     "name": "stdout",
     "output_type": "stream",
     "text": [
      "DF cutoff: 3767.2\n"
     ]
    }
   ],
   "source": [
    "dfs_arr = np.array(dfs)\n",
    "df_cutoff = np.percentile(dfs_arr, 95)\n",
    "print(\"DF cutoff: {:.1f}\".format(df_cutoff))"
   ]
  },
  {
   "cell_type": "markdown",
   "metadata": {},
   "source": [
    "### Extract stopword file"
   ]
  },
  {
   "cell_type": "code",
   "execution_count": 8,
   "metadata": {},
   "outputs": [
    {
     "name": "stdout",
     "output_type": "stream",
     "text": [
      "abstract\n",
      "one\n",
      "references\n",
      "two\n",
      "also\n",
      "using\n",
      "results\n",
      "set\n",
      "used\n",
      "first\n"
     ]
    }
   ],
   "source": [
    "fstops = open(os.path.join(DATA_DIR, \"stopwords.txt\"), \"w\")\n",
    "num_stopwords = 0\n",
    "for word, df in candidate_stopwords:\n",
    "    if df > df_cutoff:\n",
    "        fstops.write(\"{:s}\\n\".format(word))\n",
    "        if num_stopwords < 10:\n",
    "            print(word)\n",
    "        num_stopwords += 1\n",
    "fstops.close()"
   ]
  },
  {
   "cell_type": "code",
   "execution_count": null,
   "metadata": {},
   "outputs": [],
   "source": []
  }
 ],
 "metadata": {
  "kernelspec": {
   "display_name": "Python 3",
   "language": "python",
   "name": "python3"
  },
  "language_info": {
   "codemirror_mode": {
    "name": "ipython",
    "version": 3
   },
   "file_extension": ".py",
   "mimetype": "text/x-python",
   "name": "python",
   "nbconvert_exporter": "python",
   "pygments_lexer": "ipython3",
   "version": "3.6.5"
  }
 },
 "nbformat": 4,
 "nbformat_minor": 2
}
